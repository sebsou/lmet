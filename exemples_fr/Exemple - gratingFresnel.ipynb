{
 "cells": [
  {
   "cell_type": "markdown",
   "metadata": {},
   "source": [
    "<img align=\"left\" src=\"../images/Guyman-Helmet-On-icon.png\">\n",
    "\n",
    "# L-Met\n",
    "\n",
    "## Exemple d'utilisation : Classe _gratingFresnel_\n",
    "\n",
    "Définition d'un motif monocouche et lancement d'un calcul\n",
    "\n",
    "---"
   ]
  },
  {
   "cell_type": "code",
   "execution_count": 10,
   "metadata": {},
   "outputs": [],
   "source": [
    "# If LMet is not in your PYTHONPATH\n",
    "import sys\n",
    "sys.path.append('../')"
   ]
  },
  {
   "cell_type": "code",
   "execution_count": 11,
   "metadata": {},
   "outputs": [
    {
     "name": "stdout",
     "output_type": "stream",
     "text": [
      "The autoreload extension is already loaded. To reload it, use:\n",
      "  %reload_ext autoreload\n"
     ]
    }
   ],
   "source": [
    "%matplotlib inline\n",
    "from pylab import  *\n",
    "from math import radians\n",
    "import numpy as np\n",
    "\n",
    "from LMet.gratingFresnel import *\n",
    "\n",
    "%load_ext autoreload\n",
    "%autoreload 2"
   ]
  },
  {
   "cell_type": "markdown",
   "metadata": {},
   "source": [
    "### Détermination des données du réseau et du calcul\n",
    "\n",
    "- les paramètres à utiliser (grandeurs, matériaux, etc)\n",
    "- le contexte du calcul"
   ]
  },
  {
   "cell_type": "code",
   "execution_count": 12,
   "metadata": {},
   "outputs": [],
   "source": [
    "air = material('constant', 1+0j, 'Air')\n",
    "sub = material('file', \"../data/IF_{Si100}.txt\", 'Silicium')\n",
    "ox = material('file', \"../data/IF_{SiO2_TEOS}.txt\", 'Oxyde')\n",
    "\n",
    "p = {\"ec\": 30.0,\n",
    "     \"mat\" : [air, ox, sub]}\n",
    "\n",
    "context = {\"𝜆\" : linspace(300, 500.0, 20),\n",
    "           \"angle\" : np.array([radians(70)])}\n"
   ]
  },
  {
   "cell_type": "markdown",
   "metadata": {},
   "source": [
    "### Création de l'objet $grating$ et lancement du calcul"
   ]
  },
  {
   "cell_type": "code",
   "execution_count": 13,
   "metadata": {},
   "outputs": [
    {
     "name": "stdout",
     "output_type": "stream",
     "text": [
      "ec :  30.0\n"
     ]
    },
    {
     "data": {
      "text/html": [
       "<div>\n",
       "<style scoped>\n",
       "    .dataframe tbody tr th:only-of-type {\n",
       "        vertical-align: middle;\n",
       "    }\n",
       "\n",
       "    .dataframe tbody tr th {\n",
       "        vertical-align: top;\n",
       "    }\n",
       "\n",
       "    .dataframe thead th {\n",
       "        text-align: right;\n",
       "    }\n",
       "</style>\n",
       "<table border=\"1\" class=\"dataframe\">\n",
       "  <thead>\n",
       "    <tr style=\"text-align: right;\">\n",
       "      <th></th>\n",
       "      <th>angle</th>\n",
       "      <th>𝜆</th>\n",
       "      <th>rp</th>\n",
       "      <th>rs</th>\n",
       "      <th>Psi</th>\n",
       "      <th>Delta</th>\n",
       "      <th>Is</th>\n",
       "      <th>Ic</th>\n",
       "      <th>S1</th>\n",
       "      <th>S2</th>\n",
       "    </tr>\n",
       "  </thead>\n",
       "  <tbody>\n",
       "    <tr>\n",
       "      <td>0</td>\n",
       "      <td>1.22173</td>\n",
       "      <td>300.000000</td>\n",
       "      <td>0.050600</td>\n",
       "      <td>0.812444</td>\n",
       "      <td>0.683230</td>\n",
       "      <td>1.508595</td>\n",
       "      <td>0.977302</td>\n",
       "      <td>0.060868</td>\n",
       "      <td>0.202917</td>\n",
       "      <td>0.060868</td>\n",
       "    </tr>\n",
       "    <tr>\n",
       "      <td>1</td>\n",
       "      <td>1.22173</td>\n",
       "      <td>310.526316</td>\n",
       "      <td>0.040967</td>\n",
       "      <td>0.777725</td>\n",
       "      <td>0.661682</td>\n",
       "      <td>1.518170</td>\n",
       "      <td>0.968202</td>\n",
       "      <td>0.051000</td>\n",
       "      <td>0.244915</td>\n",
       "      <td>0.051000</td>\n",
       "    </tr>\n",
       "    <tr>\n",
       "      <td>2</td>\n",
       "      <td>1.22173</td>\n",
       "      <td>321.052632</td>\n",
       "      <td>0.027189</td>\n",
       "      <td>0.753545</td>\n",
       "      <td>0.646079</td>\n",
       "      <td>1.534731</td>\n",
       "      <td>0.960806</td>\n",
       "      <td>0.034667</td>\n",
       "      <td>0.275047</td>\n",
       "      <td>0.034667</td>\n",
       "    </tr>\n",
       "    <tr>\n",
       "      <td>3</td>\n",
       "      <td>1.22173</td>\n",
       "      <td>331.578947</td>\n",
       "      <td>0.010088</td>\n",
       "      <td>0.734040</td>\n",
       "      <td>0.633253</td>\n",
       "      <td>1.557054</td>\n",
       "      <td>0.953970</td>\n",
       "      <td>0.013111</td>\n",
       "      <td>0.299616</td>\n",
       "      <td>0.013111</td>\n",
       "    </tr>\n",
       "    <tr>\n",
       "      <td>4</td>\n",
       "      <td>1.22173</td>\n",
       "      <td>342.105263</td>\n",
       "      <td>-0.009835</td>\n",
       "      <td>0.718268</td>\n",
       "      <td>0.622926</td>\n",
       "      <td>1.584488</td>\n",
       "      <td>0.947580</td>\n",
       "      <td>-0.012975</td>\n",
       "      <td>0.319256</td>\n",
       "      <td>-0.012975</td>\n",
       "    </tr>\n",
       "  </tbody>\n",
       "</table>\n",
       "</div>"
      ],
      "text/plain": [
       "     angle           𝜆        rp        rs       Psi     Delta        Is  \\\n",
       "0  1.22173  300.000000  0.050600  0.812444  0.683230  1.508595  0.977302   \n",
       "1  1.22173  310.526316  0.040967  0.777725  0.661682  1.518170  0.968202   \n",
       "2  1.22173  321.052632  0.027189  0.753545  0.646079  1.534731  0.960806   \n",
       "3  1.22173  331.578947  0.010088  0.734040  0.633253  1.557054  0.953970   \n",
       "4  1.22173  342.105263 -0.009835  0.718268  0.622926  1.584488  0.947580   \n",
       "\n",
       "         Ic        S1        S2  \n",
       "0  0.060868  0.202917  0.060868  \n",
       "1  0.051000  0.244915  0.051000  \n",
       "2  0.034667  0.275047  0.034667  \n",
       "3  0.013111  0.299616  0.013111  \n",
       "4 -0.012975  0.319256 -0.012975  "
      ]
     },
     "execution_count": 13,
     "metadata": {},
     "output_type": "execute_result"
    }
   ],
   "source": [
    "g = gratingFresnel()\n",
    "\n",
    "g.parameters = p\n",
    "g.context = context\n",
    "\n",
    "g.build()\n",
    "g.display()\n",
    "\n",
    "s = g.signature(context)\n",
    "s.data.head(5)"
   ]
  },
  {
   "cell_type": "markdown",
   "metadata": {},
   "source": [
    "## Affichage du créneau\n",
    "\n"
   ]
  },
  {
   "cell_type": "code",
   "execution_count": 14,
   "metadata": {},
   "outputs": [
    {
     "data": {
      "image/svg+xml": [
       "b'<svg height=\"290.0\" version=\"1.1\" width=\"638\" xmlns=\"http://www.w3.org/2000/svg\"><g style=\"fill-opacity:1.0; stroke:black; stroke-width:1;\"><rect height=\"50\" style=\"fill:aliceblue;\" width=\"50\" x=\"425\" y=\"50\" /><text font-size=\"16\" x=\"500\" y=\"80\">Air</text><rect height=\"50\" style=\"fill:lightgreen;\" width=\"50\" x=\"425\" y=\"125\" /><text font-size=\"16\" x=\"500\" y=\"155\">Oxyde</text><rect height=\"50\" style=\"fill:lightsteelblue;\" width=\"50\" x=\"425\" y=\"200\" /><text font-size=\"16\" x=\"500\" y=\"230\">Silicium</text><rect height=\"100\" style=\"fill:aliceblue;\" width=\"400\" x=\"0\" y=\"50\" /><rect height=\"30.0\" style=\"fill:lightgreen;\" width=\"400\" x=\"0\" y=\"150\" /><rect height=\"100\" style=\"fill:lightsteelblue;\" width=\"400\" x=\"0\" y=\"180.0\" /></g></svg>'"
      ],
      "text/plain": [
       "<LMet.SVGScene.SVGScene at 0x121d23550>"
      ]
     },
     "execution_count": 14,
     "metadata": {},
     "output_type": "execute_result"
    }
   ],
   "source": [
    "g.showSVG()"
   ]
  },
  {
   "cell_type": "markdown",
   "metadata": {},
   "source": [
    "## Optimisation - problème inverse\n",
    "\n",
    "Prenons une signature et ajoutons lui un bruit gaussien."
   ]
  },
  {
   "cell_type": "code",
   "execution_count": 15,
   "metadata": {},
   "outputs": [
    {
     "data": {
      "text/plain": [
       "<matplotlib.axes._subplots.AxesSubplot at 0x121e48588>"
      ]
     },
     "execution_count": 15,
     "metadata": {},
     "output_type": "execute_result"
    },
    {
     "data": {
      "image/png": "[encoded data removed]",
      "text/plain": [
       "<Figure size 432x288 with 1 Axes>"
      ]
     },
     "metadata": {
      "needs_background": "light"
     },
     "output_type": "display_data"
    }
   ],
   "source": [
    "sig = s\n",
    "sig.isic\n",
    "sig.data.head(5)\n",
    "sig.data.plot(x='𝜆', y=['Is', 'Ic'])"
   ]
  },
  {
   "cell_type": "markdown",
   "metadata": {},
   "source": [
    "Le type de bruit provient de *numpy.random*. Il y a d'autre distributions possibles :\n",
    "\n",
    "http://docs.scipy.org/doc/numpy/reference/routines.random.html"
   ]
  },
  {
   "cell_type": "code",
   "execution_count": 17,
   "metadata": {},
   "outputs": [
    {
     "data": {
      "text/plain": [
       "<matplotlib.axes._subplots.AxesSubplot at 0x1208cd5f8>"
      ]
     },
     "execution_count": 17,
     "metadata": {},
     "output_type": "execute_result"
    },
    {
     "data": {
      "image/png": "[encoded data removed]",
      "text/plain": [
       "<Figure size 432x288 with 1 Axes>"
      ]
     },
     "metadata": {
      "needs_background": "light"
     },
     "output_type": "display_data"
    }
   ],
   "source": [
    "ec = 0.01\n",
    "sig.data.Is = sig.data.Is + np.random.normal(0, ec, len(sig.data))\n",
    "sig.data.Ic = sig.data.Ic + np.random.normal(0, ec, len(sig.data))\n",
    "\n",
    "sig.data.plot(x='𝜆', y=['Is', 'Ic'])"
   ]
  },
  {
   "cell_type": "markdown",
   "metadata": {},
   "source": [
    "Lancement effectif du problème inverse.\n",
    "\n",
    "L'optimization vient de *scipy* :\n",
    "\n",
    "http://docs.scipy.org/doc/scipy/reference/generated/scipy.optimize.minimize.html\n",
    "\n",
    "Mais il semble que *jac=False* ne marche pas pour Newton-CG par exemple : comprendre pourquoi.\n"
   ]
  },
  {
   "cell_type": "code",
   "execution_count": 9,
   "metadata": {},
   "outputs": [
    {
     "data": {
      "text/plain": [
       "   direc: array([[1.]])\n",
       "     fun: 0.06311123510828034\n",
       " message: 'Optimization terminated successfully.'\n",
       "    nfev: 23\n",
       "     nit: 2\n",
       "  status: 0\n",
       " success: True\n",
       "       x: array(29.79395176)"
      ]
     },
     "execution_count": 9,
     "metadata": {},
     "output_type": "execute_result"
    }
   ],
   "source": [
    "# Si h n'étais pas lié à cd :\n",
    "# g.ip(sig, (\"cd\", \"h\"),  (300,300), method = \"Powell\") # params à otimiser, methode, initial guess\n",
    "         \n",
    "g.ip(sig, (\"ec\",),  (30,), method = \"Powell\") # params à otimiser, methode, initial guess\n",
    "           "
   ]
  },
  {
   "cell_type": "code",
   "execution_count": null,
   "metadata": {},
   "outputs": [],
   "source": []
  }
 ],
 "metadata": {
  "anaconda-cloud": {},
  "css": [
   ""
  ],
  "hide_input": true,
  "kernelspec": {
   "display_name": "Python 3",
   "language": "python",
   "name": "python3"
  },
  "language_info": {
   "codemirror_mode": {
    "name": "ipython",
    "version": 3
   },
   "file_extension": ".py",
   "mimetype": "text/x-python",
   "name": "python",
   "nbconvert_exporter": "python",
   "pygments_lexer": "ipython3",
   "version": "3.6.9"
  }
 },
 "nbformat": 4,
 "nbformat_minor": 1
}
