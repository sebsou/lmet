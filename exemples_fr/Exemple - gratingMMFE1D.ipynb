{
 "cells": [
  {
   "cell_type": "markdown",
   "metadata": {},
   "source": [
    "<img align=\"left\" src=\"../images/Guyman-Helmet-On-icon.png\">\n",
    "\n",
    "# L-Met\n",
    "\n",
    "## Exemple d'utilisation :  Classe *gratingMMFE1D*\n",
    "\n",
    "Définition d'un réseau diffractant et lancement d'un calcul.\n",
    "\n",
    "_Pour le moment, LMet ne permet que le calcul MMFE 1D, mais comme tout le reste, l'ajout d'un code de calcul est immédiat._\n",
    "\n",
    "---"
   ]
  },
  {
   "cell_type": "code",
   "execution_count": 1,
   "metadata": {},
   "outputs": [],
   "source": [
    "# If LMet is not in your PYTHONPATH\n",
    "import sys\n",
    "sys.path.append('../')"
   ]
  },
  {
   "cell_type": "code",
   "execution_count": 2,
   "metadata": {},
   "outputs": [],
   "source": [
    "%matplotlib inline\n",
    "from pylab import  *\n",
    "from math import radians\n",
    "\n",
    "from LMet.gratingMMFE1D import *\n",
    "\n",
    "%load_ext autoreload\n",
    "%autoreload 2"
   ]
  },
  {
   "cell_type": "markdown",
   "metadata": {},
   "source": [
    "### Détermination des données du réseau et du calcul\n",
    "\n",
    "- les paramètres à utiliser (grandeurs, matériaux, etc)\n",
    "- les instructions de construction (analogue aux .gra de libScattero et scatGenious)\n",
    "- le contexte du calcul"
   ]
  },
  {
   "cell_type": "code",
   "execution_count": 4,
   "metadata": {},
   "outputs": [],
   "source": [
    "p = {\"cd\": 30.0,\n",
    "     \"si\" : material('file', '../data/IF_{Si100}.txt', name = 'Silicium'),\n",
    "     \"res\" : material('file','../data/IF_{NEB22}.txt', name = 'NEB22'),\n",
    "     \"air\" : material('constant', 1+0j, name = 'Air')}\n",
    "\n",
    "instr = \"\"\"\n",
    "h = cd/2.0\n",
    "d= 400.0\n",
    "initsquare(d, cd, h, si, res, air)\n",
    "#addlayer(1, 20, cd*1.1, air, res)\n",
    "\"\"\"\n",
    "\n",
    "context = {\"M\" : 10,\n",
    "           \"Hv\" : linspace(300, 500.0, 20),\n",
    "           \"angle\" : np.array([radians(70)])}\n"
   ]
  },
  {
   "cell_type": "markdown",
   "metadata": {},
   "source": [
    "### Création de l'objet $grating$ et lancement du calcul"
   ]
  },
  {
   "cell_type": "code",
   "execution_count": 5,
   "metadata": {},
   "outputs": [
    {
     "name": "stdout",
     "output_type": "stream",
     "text": [
      "ec :  [ 0. 15.  0.]\n",
      "eta :  [[0.     0.4625 0.    ]\n",
      " [0.     0.5375 0.    ]]\n",
      "nulam :  [['Air' 'Air' 'Silicium']\n",
      " ['Air' 'NEB22' 'Silicium']\n",
      " ['Air' 'Air' 'Silicium']]\n"
     ]
    },
    {
     "data": {
      "text/html": [
       "<div>\n",
       "<style scoped>\n",
       "    .dataframe tbody tr th:only-of-type {\n",
       "        vertical-align: middle;\n",
       "    }\n",
       "\n",
       "    .dataframe tbody tr th {\n",
       "        vertical-align: top;\n",
       "    }\n",
       "\n",
       "    .dataframe thead th {\n",
       "        text-align: right;\n",
       "    }\n",
       "</style>\n",
       "<table border=\"1\" class=\"dataframe\">\n",
       "  <thead>\n",
       "    <tr style=\"text-align: right;\">\n",
       "      <th></th>\n",
       "      <th>angle</th>\n",
       "      <th>Hv</th>\n",
       "      <th>M</th>\n",
       "      <th>rp</th>\n",
       "      <th>rs</th>\n",
       "      <th>rp_polar</th>\n",
       "      <th>rs_polar</th>\n",
       "      <th>rpors</th>\n",
       "      <th>Psi</th>\n",
       "      <th>Delta</th>\n",
       "      <th>Is</th>\n",
       "      <th>Ic</th>\n",
       "      <th>S1</th>\n",
       "      <th>S2</th>\n",
       "    </tr>\n",
       "  </thead>\n",
       "  <tbody>\n",
       "    <tr>\n",
       "      <th>0</th>\n",
       "      <td>1.22173</td>\n",
       "      <td>300.000000</td>\n",
       "      <td>10.0</td>\n",
       "      <td>-0.447103</td>\n",
       "      <td>0.349137</td>\n",
       "      <td>0.521957</td>\n",
       "      <td>0.920118</td>\n",
       "      <td>0.567272</td>\n",
       "      <td>0.516007</td>\n",
       "      <td>2.478615</td>\n",
       "      <td>0.528276</td>\n",
       "      <td>-0.676508</td>\n",
       "      <td>0.513091</td>\n",
       "      <td>-0.676508</td>\n",
       "    </tr>\n",
       "    <tr>\n",
       "      <th>1</th>\n",
       "      <td>1.22173</td>\n",
       "      <td>310.526316</td>\n",
       "      <td>10.0</td>\n",
       "      <td>-0.419291</td>\n",
       "      <td>0.319025</td>\n",
       "      <td>0.480221</td>\n",
       "      <td>0.911477</td>\n",
       "      <td>0.526860</td>\n",
       "      <td>0.484904</td>\n",
       "      <td>2.491173</td>\n",
       "      <td>0.499420</td>\n",
       "      <td>-0.656382</td>\n",
       "      <td>0.565458</td>\n",
       "      <td>-0.656382</td>\n",
       "    </tr>\n",
       "    <tr>\n",
       "      <th>2</th>\n",
       "      <td>1.22173</td>\n",
       "      <td>321.052632</td>\n",
       "      <td>10.0</td>\n",
       "      <td>-0.407806</td>\n",
       "      <td>0.299804</td>\n",
       "      <td>0.459230</td>\n",
       "      <td>0.907299</td>\n",
       "      <td>0.506150</td>\n",
       "      <td>0.468556</td>\n",
       "      <td>2.507655</td>\n",
       "      <td>0.477324</td>\n",
       "      <td>-0.649275</td>\n",
       "      <td>0.592118</td>\n",
       "      <td>-0.649275</td>\n",
       "    </tr>\n",
       "    <tr>\n",
       "      <th>3</th>\n",
       "      <td>1.22173</td>\n",
       "      <td>331.578947</td>\n",
       "      <td>10.0</td>\n",
       "      <td>-0.404601</td>\n",
       "      <td>0.282810</td>\n",
       "      <td>0.446835</td>\n",
       "      <td>0.905179</td>\n",
       "      <td>0.493643</td>\n",
       "      <td>0.458549</td>\n",
       "      <td>2.531548</td>\n",
       "      <td>0.454794</td>\n",
       "      <td>-0.650649</td>\n",
       "      <td>0.608126</td>\n",
       "      <td>-0.650649</td>\n",
       "    </tr>\n",
       "    <tr>\n",
       "      <th>4</th>\n",
       "      <td>1.22173</td>\n",
       "      <td>342.105263</td>\n",
       "      <td>10.0</td>\n",
       "      <td>-0.407693</td>\n",
       "      <td>0.267169</td>\n",
       "      <td>0.440956</td>\n",
       "      <td>0.904645</td>\n",
       "      <td>0.487435</td>\n",
       "      <td>0.453545</td>\n",
       "      <td>2.561488</td>\n",
       "      <td>0.431755</td>\n",
       "      <td>-0.658849</td>\n",
       "      <td>0.616040</td>\n",
       "      <td>-0.658849</td>\n",
       "    </tr>\n",
       "  </tbody>\n",
       "</table>\n",
       "</div>"
      ],
      "text/plain": [
       "     angle          Hv     M        rp        rs  rp_polar  rs_polar  \\\n",
       "0  1.22173  300.000000  10.0 -0.447103  0.349137  0.521957  0.920118   \n",
       "1  1.22173  310.526316  10.0 -0.419291  0.319025  0.480221  0.911477   \n",
       "2  1.22173  321.052632  10.0 -0.407806  0.299804  0.459230  0.907299   \n",
       "3  1.22173  331.578947  10.0 -0.404601  0.282810  0.446835  0.905179   \n",
       "4  1.22173  342.105263  10.0 -0.407693  0.267169  0.440956  0.904645   \n",
       "\n",
       "      rpors       Psi     Delta        Is        Ic        S1        S2  \n",
       "0  0.567272  0.516007  2.478615  0.528276 -0.676508  0.513091 -0.676508  \n",
       "1  0.526860  0.484904  2.491173  0.499420 -0.656382  0.565458 -0.656382  \n",
       "2  0.506150  0.468556  2.507655  0.477324 -0.649275  0.592118 -0.649275  \n",
       "3  0.493643  0.458549  2.531548  0.454794 -0.650649  0.608126 -0.650649  \n",
       "4  0.487435  0.453545  2.561488  0.431755 -0.658849  0.616040 -0.658849  "
      ]
     },
     "execution_count": 5,
     "metadata": {},
     "output_type": "execute_result"
    }
   ],
   "source": [
    "g = gratingMMFE1D()\n",
    "\n",
    "g.instructions = instr \n",
    "g.parameters = p\n",
    "\n",
    "g.build()\n",
    "g.display()\n",
    "\n",
    "s = g.signature(context)\n",
    "s.data.head(5)"
   ]
  },
  {
   "cell_type": "markdown",
   "metadata": {},
   "source": [
    "## Affichage du créneau\n",
    "\n"
   ]
  },
  {
   "cell_type": "code",
   "execution_count": 6,
   "metadata": {},
   "outputs": [
    {
     "data": {
      "image/svg+xml": [
       "b'<svg height=\"275.0\" version=\"1.1\" width=\"638\" xmlns=\"http://www.w3.org/2000/svg\"><g style=\"fill-opacity:1.0; stroke:black; stroke-width:1;\"><rect height=\"50\" style=\"fill:aliceblue;\" width=\"50\" x=\"425\" y=\"50\" /><text font-size=\"16\" x=\"500\" y=\"80\">Air</text><rect height=\"50\" style=\"fill:lightgreen;\" width=\"50\" x=\"425\" y=\"125\" /><text font-size=\"16\" x=\"500\" y=\"155\">Silicium</text><rect height=\"50\" style=\"fill:lightsteelblue;\" width=\"50\" x=\"425\" y=\"200\" /><text font-size=\"16\" x=\"500\" y=\"230\">NEB22</text><rect height=\"100\" style=\"fill:aliceblue;\" width=\"400\" x=\"0\" y=\"50\" /><rect height=\"15.0\" style=\"fill:aliceblue;\" width=\"185.0\" x=\"0\" y=\"150\" /><rect height=\"15.0\" style=\"fill:lightsteelblue;\" width=\"29.999999999999982\" x=\"185.0\" y=\"150\" /><rect height=\"15.0\" style=\"fill:aliceblue;\" width=\"185.0\" x=\"214.99999999999997\" y=\"150\" /><rect height=\"100\" style=\"fill:lightgreen;\" width=\"400\" x=\"0\" y=\"165.0\" /></g></svg>'"
      ],
      "text/plain": [
       "<LMet.SVGScene.SVGScene at 0x131ffd5f28>"
      ]
     },
     "execution_count": 6,
     "metadata": {},
     "output_type": "execute_result"
    }
   ],
   "source": [
    "g.showSVG()"
   ]
  },
  {
   "cell_type": "markdown",
   "metadata": {},
   "source": [
    "## Optimisation - problème inverse\n",
    "\n",
    "Prenons une signature et ajoutons lui un bruit gaussien."
   ]
  },
  {
   "cell_type": "code",
   "execution_count": 7,
   "metadata": {},
   "outputs": [
    {
     "data": {
      "text/plain": [
       "<matplotlib.axes._subplots.AxesSubplot at 0x131ffe7fd0>"
      ]
     },
     "execution_count": 7,
     "metadata": {},
     "output_type": "execute_result"
    },
    {
     "data": {
      "image/png": "[encoded data removed]",
      "text/plain": [
       "<Figure size 432x288 with 1 Axes>"
      ]
     },
     "metadata": {
      "needs_background": "light"
     },
     "output_type": "display_data"
    }
   ],
   "source": [
    "sig = s\n",
    "sig.isic\n",
    "sig.data.head(5)\n",
    "sig.data.plot(x='Hv', y=['Is', 'Ic'])"
   ]
  },
  {
   "cell_type": "markdown",
   "metadata": {},
   "source": [
    "Le type de bruit provient de *numpy.random*. Il y a d'autre distributions possibles :\n",
    "\n",
    "http://docs.scipy.org/doc/numpy/reference/routines.random.html"
   ]
  },
  {
   "cell_type": "code",
   "execution_count": 8,
   "metadata": {},
   "outputs": [
    {
     "data": {
      "text/plain": [
       "<matplotlib.axes._subplots.AxesSubplot at 0x131ffe7710>"
      ]
     },
     "execution_count": 8,
     "metadata": {},
     "output_type": "execute_result"
    },
    {
     "data": {
      "image/png": "[encoded data removed]",
      "text/plain": [
       "<Figure size 432x288 with 1 Axes>"
      ]
     },
     "metadata": {
      "needs_background": "light"
     },
     "output_type": "display_data"
    }
   ],
   "source": [
    "ec = 0.01\n",
    "sig.data.Is = sig.data.Is + np.random.normal(0, ec, len(sig.data))\n",
    "sig.data.Ic = sig.data.Ic + np.random.normal(0, ec, len(sig.data))\n",
    "\n",
    "sig.data.plot(x='Hv', y=['Is', 'Ic'])"
   ]
  },
  {
   "cell_type": "markdown",
   "metadata": {},
   "source": [
    "Lancement effectif du problème inverse.\n",
    "\n",
    "L'optimization vient de *scipy* :\n",
    "\n",
    "http://docs.scipy.org/doc/scipy/reference/generated/scipy.optimize.minimize.html\n",
    "\n",
    "Mais il semble que *jac=False* ne marche pas pour Newton-CG par exemple : comprendre pourquoi.\n"
   ]
  },
  {
   "cell_type": "code",
   "execution_count": 9,
   "metadata": {},
   "outputs": [
    {
     "data": {
      "text/plain": [
       "   direc: array([[1.]])\n",
       "     fun: 0.07519255305487807\n",
       " message: 'Optimization terminated successfully.'\n",
       "    nfev: 21\n",
       "     nit: 2\n",
       "  status: 0\n",
       " success: True\n",
       "       x: array(31.2218764)"
      ]
     },
     "execution_count": 9,
     "metadata": {},
     "output_type": "execute_result"
    }
   ],
   "source": [
    "# Si h n'étais pas lié à cd :\n",
    "# g.ip(sig, (\"cd\", \"h\"),  (300,300), method = \"Powell\") # params à otimiser, methode, initial guess\n",
    "         \n",
    "g.ip(sig, (\"cd\",),  (30,), method = \"Powell\") # params à otimiser, methode, initial guess"
   ]
  },
  {
   "cell_type": "code",
   "execution_count": 10,
   "metadata": {},
   "outputs": [
    {
     "data": {
      "text/plain": [
       "     fun: 0.07519255594253363\n",
       "     jac: array([6.33858144e-06])\n",
       " message: 'Optimization terminated successfully.'\n",
       "    nfev: 135\n",
       "     nit: 4\n",
       "    njev: 45\n",
       "  status: 0\n",
       " success: True\n",
       "       x: array([31.22279672])"
      ]
     },
     "execution_count": 10,
     "metadata": {},
     "output_type": "execute_result"
    }
   ],
   "source": [
    "g.ip(sig, (\"cd\",),  (30,), method = \"CG\") # params à otimiser, methode, initial guess"
   ]
  },
  {
   "cell_type": "markdown",
   "metadata": {},
   "source": [
    "### Méthode des bibliothèques\n",
    "\n",
    "Fabrication du tableau des clés (rappel : une biblio est un ensemble de couple (clés, valeur) )"
   ]
  },
  {
   "cell_type": "code",
   "execution_count": 12,
   "metadata": {},
   "outputs": [
    {
     "data": {
      "text/plain": [
       "[{'cd': 30.0,\n",
       "  'si': <LMet.material.material at 0x13202a7908>,\n",
       "  'res': <LMet.material.material at 0x13200b6710>,\n",
       "  'air': <LMet.material.material at 0x13202a7470>},\n",
       " {'cd': 40.0,\n",
       "  'si': <LMet.material.material at 0x13202a7908>,\n",
       "  'res': <LMet.material.material at 0x13200b6710>,\n",
       "  'air': <LMet.material.material at 0x13202a7470>},\n",
       " {'cd': 50.0,\n",
       "  'si': <LMet.material.material at 0x13202a7908>,\n",
       "  'res': <LMet.material.material at 0x13200b6710>,\n",
       "  'air': <LMet.material.material at 0x13202a7470>}]"
      ]
     },
     "execution_count": 12,
     "metadata": {},
     "output_type": "execute_result"
    }
   ],
   "source": [
    "from copy import copy\n",
    "\n",
    "p = {\"cd\": 30.0,\n",
    "     \"si\" : material(\"file\", \"../data/IF_{Si100}.txt\"),\n",
    "     \"res\" : material(\"file\", \"../data/IF_{NEB22}.txt\"),\n",
    "     \"air\" : material(\"constant\", 1+0j)}\n",
    "\n",
    "n=3\n",
    "p_keys = []\n",
    "for cd in np.linspace(30, 50, n) :\n",
    "    p_new = copy(p)\n",
    "    p_new['cd'] = cd \n",
    "    p_keys.append(p_new)\n",
    "\n",
    "p_keys"
   ]
  },
  {
   "cell_type": "markdown",
   "metadata": {},
   "source": [
    "Lancement du calcul."
   ]
  },
  {
   "cell_type": "code",
   "execution_count": 13,
   "metadata": {},
   "outputs": [
    {
     "data": {
      "text/plain": [
       "array([-0.44710319,  0.34913702, -0.41929093,  0.31902471, -0.40780589,\n",
       "        0.29980408, -0.40460091,  0.28280984, -0.40769345,  0.26716872,\n",
       "       -0.4216861 ,  0.25330863, -0.45812004,  0.21512391, -0.45582085,\n",
       "        0.13331547, -0.40825452,  0.08594823, -0.37287608,  0.07032771,\n",
       "       -0.34624958,  0.05990024, -0.32479155,  0.05313813, -0.30736543,\n",
       "        0.04828759, -0.29340039,  0.04449102, -0.28078616,  0.04138973,\n",
       "       -0.26963261,  0.03871231, -0.25983654,  0.03644411, -0.25114487,\n",
       "        0.03454091, -0.24319022,  0.03280318, -0.23644375,  0.03128626])"
      ]
     },
     "execution_count": 13,
     "metadata": {},
     "output_type": "execute_result"
    }
   ],
   "source": [
    "g = gratingMMFE1D()\n",
    "\n",
    "g.instructions = instr \n",
    "g.libparameters = p_keys\n",
    "g.context = context\n",
    "    \n",
    "\n",
    "l = g.library()\n",
    "\n",
    "l[0]"
   ]
  },
  {
   "cell_type": "markdown",
   "metadata": {},
   "source": [
    "Recherche des k-PPV :\n",
    "\n",
    "Disons que la première signature de la bibliothèque est la signature acquise."
   ]
  },
  {
   "cell_type": "code",
   "execution_count": 14,
   "metadata": {},
   "outputs": [
    {
     "data": {
      "text/plain": [
       "(array([[0.        , 0.15094013]]), array([[0, 1]]))"
      ]
     },
     "execution_count": 14,
     "metadata": {},
     "output_type": "execute_result"
    }
   ],
   "source": [
    "s_exp = l[0] \n",
    "\n",
    "from sklearn.neighbors import NearestNeighbors\n",
    "\n",
    "nbrs = NearestNeighbors(n_neighbors=2, algorithm='ball_tree').fit(l)\n",
    "distances, indices = nbrs.kneighbors([s_exp])    \n",
    "\n",
    "distances, indices"
   ]
  },
  {
   "cell_type": "markdown",
   "metadata": {},
   "source": [
    "\n",
    "## Utilisation avancée\n",
    "\n",
    "Il est possible de fabriquer ses propres fonctions de constructions."
   ]
  },
  {
   "cell_type": "code",
   "execution_count": 15,
   "metadata": {},
   "outputs": [
    {
     "data": {
      "image/svg+xml": [
       "b'<svg height=\"295.0\" version=\"1.1\" width=\"606\" xmlns=\"http://www.w3.org/2000/svg\"><g style=\"fill-opacity:1.0; stroke:black; stroke-width:1;\"><rect height=\"50\" style=\"fill:aliceblue;\" width=\"50\" x=\"425\" y=\"50\" /><text font-size=\"16\" x=\"500\" y=\"80\">NoName</text><rect height=\"50\" style=\"fill:lightgreen;\" width=\"50\" x=\"425\" y=\"125\" /><text font-size=\"16\" x=\"500\" y=\"155\">NoName</text><rect height=\"50\" style=\"fill:lightsteelblue;\" width=\"50\" x=\"425\" y=\"200\" /><text font-size=\"16\" x=\"500\" y=\"230\">NoName</text><rect height=\"100\" style=\"fill:aliceblue;\" width=\"400\" x=\"0\" y=\"50\" /><rect height=\"20.0\" style=\"fill:aliceblue;\" width=\"167.0\" x=\"0\" y=\"150\" /><rect height=\"20.0\" style=\"fill:lightsteelblue;\" width=\"66.00000000000001\" x=\"167.0\" y=\"150\" /><rect height=\"20.0\" style=\"fill:aliceblue;\" width=\"167.0\" x=\"233.0\" y=\"150\" /><rect height=\"15.0\" style=\"fill:aliceblue;\" width=\"185.0\" x=\"0\" y=\"170.0\" /><rect height=\"15.0\" style=\"fill:lightsteelblue;\" width=\"29.999999999999982\" x=\"185.0\" y=\"170.0\" /><rect height=\"15.0\" style=\"fill:aliceblue;\" width=\"185.0\" x=\"214.99999999999997\" y=\"170.0\" /><rect height=\"100\" style=\"fill:lightgreen;\" width=\"400\" x=\"0\" y=\"185.0\" /></g></svg>'"
      ],
      "text/plain": [
       "<LMet.SVGScene.SVGScene at 0x1a20de22e8>"
      ]
     },
     "execution_count": 15,
     "metadata": {},
     "output_type": "execute_result"
    }
   ],
   "source": [
    "g2 = gratingMMFE1D()\n",
    "\n",
    "g2.buildinstructions += \"\"\"\n",
    "\n",
    "def addlayer2(i, e, cd, air, mat) :\n",
    "    global ec, eta, nulam\n",
    "       \n",
    "    ec = np.insert(ec, i, e)\n",
    "    eta = np.insert(eta, i, np.array([0.5-cd/d, 0.5+cd/d]), 1) # d'ou la necessité de bien faire les eta, nulam...\n",
    "    nulam = np.insert(nulam, i, np.array([air, mat, air]),1)\n",
    "   \n",
    "\"\"\"\n",
    "\n",
    "instr = \"\"\"\n",
    "h = cd/2.0\n",
    "d= 400\n",
    "initsquare(d, cd, h, si, res, air)\n",
    "addlayer2(1, 20, cd*1.1, air, res)\n",
    "\n",
    "\"\"\"\n",
    "g2.instructions = instr\n",
    "g2.parameters = p\n",
    "g2.build()\n",
    "g2.showSVG()\n"
   ]
  },
  {
   "cell_type": "code",
   "execution_count": null,
   "metadata": {},
   "outputs": [],
   "source": []
  },
  {
   "cell_type": "code",
   "execution_count": null,
   "metadata": {},
   "outputs": [],
   "source": []
  }
 ],
 "metadata": {
  "anaconda-cloud": {},
  "css": [
   ""
  ],
  "hide_input": true,
  "kernelspec": {
   "display_name": "Python 3",
   "language": "python",
   "name": "python3"
  },
  "language_info": {
   "codemirror_mode": {
    "name": "ipython",
    "version": 3
   },
   "file_extension": ".py",
   "mimetype": "text/x-python",
   "name": "python",
   "nbconvert_exporter": "python",
   "pygments_lexer": "ipython3",
   "version": "3.6.8"
  }
 },
 "nbformat": 4,
 "nbformat_minor": 1
}
