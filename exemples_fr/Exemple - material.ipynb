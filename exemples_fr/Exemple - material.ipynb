{
 "cells": [
  {
   "cell_type": "markdown",
   "metadata": {},
   "source": [
    "<img align=\"left\" src=\"../images/Guyman-Helmet-On-icon.png\">\n",
    "\n",
    "# L-Met\n",
    "\n",
    "## Exemple d'utilisation :  Classe *material*\n",
    "\n",
    "Cette classe prend en charge les courbes de dispersions d'un matériau donné :\n",
    "\n",
    "- lecture des indices optiques à partir d'un fichier;\n",
    "- affichage des courbes;\n",
    "- interpolation.\n",
    "\n",
    "---"
   ]
  },
  {
   "cell_type": "code",
   "execution_count": 2,
   "metadata": {},
   "outputs": [],
   "source": [
    "# If LMet is not in your PYTHONPATH\n",
    "import sys\n",
    "sys.path.append('../')"
   ]
  },
  {
   "cell_type": "code",
   "execution_count": 3,
   "metadata": {},
   "outputs": [],
   "source": [
    "%matplotlib inline\n",
    "from pylab import *\n",
    "\n",
    "from LMet.material import *\n",
    "\n",
    "%load_ext autoreload\n",
    "%autoreload 2\n"
   ]
  },
  {
   "cell_type": "markdown",
   "metadata": {},
   "source": [
    "### Définition d'un objet\n",
    "\n",
    "N.B. : Eviter de mettre des accents dans le nom du matériau, cela gène l'outil pour le tracé..."
   ]
  },
  {
   "cell_type": "code",
   "execution_count": 5,
   "metadata": {},
   "outputs": [],
   "source": [
    "air = material(\"constant\", 1+0j)\n",
    "sub = material(\"file\",\"../data/IF_{NEB22}.txt\")\n",
    "si = material(\"file\",\"../data/IF_{Si100}.txt\")\n",
    "ox = material(\"file\",\"../data/IF_{SiO2_TEOS}.txt\")\n",
    "# ou bien :\n",
    "air = material(\"constant\", 1+0j, \"Vide\")\n",
    "sub = material(\"file\",\"../data/IF_{NEB22}.txt\", \"Resine NEB22\")"
   ]
  },
  {
   "cell_type": "markdown",
   "metadata": {},
   "source": [
    "### Interpolation\n",
    "\n",
    "Sur le domaine de définition de ces indices par le fichier, bien sûr."
   ]
  },
  {
   "cell_type": "code",
   "execution_count": 6,
   "metadata": {},
   "outputs": [
    {
     "name": "stdout",
     "output_type": "stream",
     "text": [
      "(1+0j)\n",
      "(1.6028114-0.004595606j)\n",
      "250.0 800.0\n"
     ]
    }
   ],
   "source": [
    "print (air(6.0))\n",
    "print (sub(500.0))\n",
    "print (sub.wlmin, sub.wlmax)"
   ]
  },
  {
   "cell_type": "markdown",
   "metadata": {},
   "source": [
    "### Tracé\n",
    "\n",
    "Le tracé n'est pas fait pour un matériau \"constant\" (alors, l'indice complexe est renvoyé)."
   ]
  },
  {
   "cell_type": "code",
   "execution_count": 7,
   "metadata": {},
   "outputs": [
    {
     "data": {
      "image/png": "[encoded data removed]",
      "text/plain": [
       "<Figure size 432x288 with 1 Axes>"
      ]
     },
     "metadata": {
      "needs_background": "light"
     },
     "output_type": "display_data"
    },
    {
     "data": {
      "image/png": "[encoded data removed]",
      "text/plain": [
       "<Figure size 432x288 with 1 Axes>"
      ]
     },
     "metadata": {
      "needs_background": "light"
     },
     "output_type": "display_data"
    }
   ],
   "source": [
    "ox.plot()\n",
    "air.plot()"
   ]
  },
  {
   "cell_type": "markdown",
   "metadata": {},
   "source": [
    "En fait, le matériau contient une fonction qui interpole les indices :"
   ]
  },
  {
   "cell_type": "code",
   "execution_count": 8,
   "metadata": {},
   "outputs": [
    {
     "data": {
      "text/plain": [
       "array(1.47308)"
      ]
     },
     "execution_count": 8,
     "metadata": {},
     "output_type": "execute_result"
    }
   ],
   "source": [
    "f = ox.n\n",
    "f(500)\n"
   ]
  },
  {
   "cell_type": "markdown",
   "metadata": {},
   "source": [
    "### Modèle de Cauchy\n",
    "\n",
    "TODO..."
   ]
  },
  {
   "cell_type": "code",
   "execution_count": null,
   "metadata": {},
   "outputs": [],
   "source": []
  },
  {
   "cell_type": "code",
   "execution_count": null,
   "metadata": {},
   "outputs": [],
   "source": []
  }
 ],
 "metadata": {
  "anaconda-cloud": {},
  "css": [
   ""
  ],
  "hide_input": true,
  "kernelspec": {
   "display_name": "Python 3",
   "language": "python",
   "name": "python3"
  },
  "language_info": {
   "codemirror_mode": {
    "name": "ipython",
    "version": 3
   },
   "file_extension": ".py",
   "mimetype": "text/x-python",
   "name": "python",
   "nbconvert_exporter": "python",
   "pygments_lexer": "ipython3",
   "version": "3.6.8"
  }
 },
 "nbformat": 4,
 "nbformat_minor": 1
}
