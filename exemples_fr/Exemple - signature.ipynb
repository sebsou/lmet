{
 "cells": [
  {
   "cell_type": "markdown",
   "metadata": {},
   "source": [
    "<img align=\"left\" src=\"../images/Guyman-Helmet-On-icon.png\">\n",
    "\n",
    "# L-Met\n",
    "\n",
    "## Exemple d'utilisation : Classe *signature*\n",
    "\n",
    "1. Élements de base pour l'utilisation\n",
    "2. Ouverture à partir d'un fichier expérimental\n",
    "3. Sauvegarde & relecture\n",
    "4. Affichage\n",
    "\n",
    "---"
   ]
  },
  {
   "cell_type": "markdown",
   "metadata": {},
   "source": [
    "### Imports"
   ]
  },
  {
   "cell_type": "code",
   "execution_count": 10,
   "metadata": {},
   "outputs": [],
   "source": [
    "# If LMet is not in your PYTHONPATH\n",
    "import sys\n",
    "sys.path.append('../')"
   ]
  },
  {
   "cell_type": "code",
   "execution_count": 11,
   "metadata": {},
   "outputs": [
    {
     "name": "stdout",
     "output_type": "stream",
     "text": [
      "The autoreload extension is already loaded. To reload it, use:\n",
      "  %reload_ext autoreload\n"
     ]
    }
   ],
   "source": [
    "from LMet.signature import *\n",
    "\n",
    "import pandas as pd\n",
    "from pylab import *\n",
    "\n",
    "%matplotlib inline\n",
    "%load_ext autoreload\n",
    "%autoreload 2"
   ]
  },
  {
   "cell_type": "markdown",
   "metadata": {},
   "source": [
    "### Élements de base pour l'utilisation"
   ]
  },
  {
   "cell_type": "code",
   "execution_count": 12,
   "metadata": {},
   "outputs": [
    {
     "name": "stdout",
     "output_type": "stream",
     "text": [
      "0    200.0\n",
      "1    250.0\n",
      "2    300.0\n",
      "Name: wl, dtype: float64\n",
      "wl    200.0\n",
      "Is      1.0\n",
      "Ic      2.0\n",
      "Name: 0, dtype: float64\n"
     ]
    }
   ],
   "source": [
    "s = np.array([[200, 1, 2],\n",
    "             [250, 1.1, 2.1],\n",
    "             [300, 1.2, 2.2]])\n",
    "\n",
    "df = pd.DataFrame(s, columns = [\"wl\",\"Is\", \"Ic\"])\n",
    "\n",
    "# ou alors :\n",
    "#d = {'one' : np.random.rand(10),\n",
    "#     'two' : np.random.rand(10)}\n",
    "#df = pd.DataFrame(d)\n",
    "\n",
    "sig2 = signature(df) # s, \"isic\")   # définition à partir d'un np.array\n",
    "\n",
    "print (sig2.data[\"wl\"])        # liste des longueurs d'ondes\n",
    "print (sig2.data.iloc[0])        # premier point\n"
   ]
  },
  {
   "cell_type": "markdown",
   "metadata": {},
   "source": [
    "### Ouverture à partir d'un fichier, affichage"
   ]
  },
  {
   "cell_type": "markdown",
   "metadata": {},
   "source": [
    "Signature de format Jobin-Yvon\n",
    "\n",
    "_Ne marche pas pour le moment_"
   ]
  },
  {
   "cell_type": "raw",
   "metadata": {},
   "source": [
    "fname = \"data/evg1645-ech03_p2post.spe\"\n",
    "\n",
    "sig1 = signature(fname)\n",
    "print (sig1.ellipso, sig1.analyser, sig1.modulator)\n",
    "sig1.data.head(3)"
   ]
  },
  {
   "cell_type": "raw",
   "metadata": {},
   "source": [
    "sig1.data.plot(x='Hv', y=['Is', 'Ic'])"
   ]
  },
  {
   "cell_type": "markdown",
   "metadata": {},
   "source": [
    "Signature de format Woolam/Nanometric"
   ]
  },
  {
   "cell_type": "code",
   "execution_count": 14,
   "metadata": {},
   "outputs": [
    {
     "name": "stdout",
     "output_type": "stream",
     "text": [
      "Woolam 0.7853981633974483 0.0\n"
     ]
    },
    {
     "data": {
      "text/html": [
       "<div>\n",
       "<style scoped>\n",
       "    .dataframe tbody tr th:only-of-type {\n",
       "        vertical-align: middle;\n",
       "    }\n",
       "\n",
       "    .dataframe tbody tr th {\n",
       "        vertical-align: top;\n",
       "    }\n",
       "\n",
       "    .dataframe thead th {\n",
       "        text-align: right;\n",
       "    }\n",
       "</style>\n",
       "<table border=\"1\" class=\"dataframe\">\n",
       "  <thead>\n",
       "    <tr style=\"text-align: right;\">\n",
       "      <th></th>\n",
       "      <th>Hv</th>\n",
       "      <th>angle</th>\n",
       "      <th>Psi</th>\n",
       "      <th>Delta</th>\n",
       "      <th>ErrPsi</th>\n",
       "      <th>ErrDelta</th>\n",
       "    </tr>\n",
       "  </thead>\n",
       "  <tbody>\n",
       "    <tr>\n",
       "      <th>0</th>\n",
       "      <td>192.948230</td>\n",
       "      <td>0.959931</td>\n",
       "      <td>0.600457</td>\n",
       "      <td>2.434026</td>\n",
       "      <td>0.006148</td>\n",
       "      <td>0.010011</td>\n",
       "    </tr>\n",
       "    <tr>\n",
       "      <th>1</th>\n",
       "      <td>194.539038</td>\n",
       "      <td>0.959931</td>\n",
       "      <td>0.606778</td>\n",
       "      <td>2.479310</td>\n",
       "      <td>0.004457</td>\n",
       "      <td>0.007487</td>\n",
       "    </tr>\n",
       "    <tr>\n",
       "      <th>2</th>\n",
       "      <td>196.129883</td>\n",
       "      <td>0.959931</td>\n",
       "      <td>0.583185</td>\n",
       "      <td>2.535811</td>\n",
       "      <td>0.003587</td>\n",
       "      <td>0.006331</td>\n",
       "    </tr>\n",
       "  </tbody>\n",
       "</table>\n",
       "</div>"
      ],
      "text/plain": [
       "           Hv     angle       Psi     Delta    ErrPsi  ErrDelta\n",
       "0  192.948230  0.959931  0.600457  2.434026  0.006148  0.010011\n",
       "1  194.539038  0.959931  0.606778  2.479310  0.004457  0.007487\n",
       "2  196.129883  0.959931  0.583185  2.535811  0.003587  0.006331"
      ]
     },
     "execution_count": 14,
     "metadata": {},
     "output_type": "execute_result"
    }
   ],
   "source": [
    "fname = \"../data/EPIC_2009_55Deg.dat\"\n",
    "sig2 = signature(fname)\n",
    "print (sig2.ellipso, sig2.analyser, sig2.modulator)\n",
    "\n",
    "sig2.data.head(3)\n"
   ]
  },
  {
   "cell_type": "markdown",
   "metadata": {},
   "source": [
    "### Sauvegarde d'une signature (sérialisation avec Pickle) :\n",
    "N.B. : marche avec tout type d'objet."
   ]
  },
  {
   "cell_type": "code",
   "execution_count": 15,
   "metadata": {},
   "outputs": [],
   "source": [
    "import pickle\n",
    "\n",
    "pickle.dump(sig2, open( \"MaSignature.dat\", \"wb\" ))   # sauvegarde\n",
    "\n",
    "sig3 = pickle.load(open( \"MaSignature.dat\", \"rb\" ))  # lecture"
   ]
  },
  {
   "cell_type": "code",
   "execution_count": 16,
   "metadata": {},
   "outputs": [
    {
     "data": {
      "text/html": [
       "<div>\n",
       "<style scoped>\n",
       "    .dataframe tbody tr th:only-of-type {\n",
       "        vertical-align: middle;\n",
       "    }\n",
       "\n",
       "    .dataframe tbody tr th {\n",
       "        vertical-align: top;\n",
       "    }\n",
       "\n",
       "    .dataframe thead th {\n",
       "        text-align: right;\n",
       "    }\n",
       "</style>\n",
       "<table border=\"1\" class=\"dataframe\">\n",
       "  <thead>\n",
       "    <tr style=\"text-align: right;\">\n",
       "      <th></th>\n",
       "      <th>Hv</th>\n",
       "      <th>angle</th>\n",
       "      <th>Psi</th>\n",
       "      <th>Delta</th>\n",
       "      <th>ErrPsi</th>\n",
       "      <th>ErrDelta</th>\n",
       "    </tr>\n",
       "  </thead>\n",
       "  <tbody>\n",
       "    <tr>\n",
       "      <th>0</th>\n",
       "      <td>192.948230</td>\n",
       "      <td>0.959931</td>\n",
       "      <td>0.600457</td>\n",
       "      <td>2.434026</td>\n",
       "      <td>0.006148</td>\n",
       "      <td>0.010011</td>\n",
       "    </tr>\n",
       "    <tr>\n",
       "      <th>1</th>\n",
       "      <td>194.539038</td>\n",
       "      <td>0.959931</td>\n",
       "      <td>0.606778</td>\n",
       "      <td>2.479310</td>\n",
       "      <td>0.004457</td>\n",
       "      <td>0.007487</td>\n",
       "    </tr>\n",
       "    <tr>\n",
       "      <th>2</th>\n",
       "      <td>196.129883</td>\n",
       "      <td>0.959931</td>\n",
       "      <td>0.583185</td>\n",
       "      <td>2.535811</td>\n",
       "      <td>0.003587</td>\n",
       "      <td>0.006331</td>\n",
       "    </tr>\n",
       "    <tr>\n",
       "      <th>3</th>\n",
       "      <td>197.720776</td>\n",
       "      <td>0.959931</td>\n",
       "      <td>0.570882</td>\n",
       "      <td>2.617305</td>\n",
       "      <td>0.002722</td>\n",
       "      <td>0.004985</td>\n",
       "    </tr>\n",
       "    <tr>\n",
       "      <th>4</th>\n",
       "      <td>199.311694</td>\n",
       "      <td>0.959931</td>\n",
       "      <td>0.585353</td>\n",
       "      <td>2.706325</td>\n",
       "      <td>0.002172</td>\n",
       "      <td>0.004111</td>\n",
       "    </tr>\n",
       "  </tbody>\n",
       "</table>\n",
       "</div>"
      ],
      "text/plain": [
       "           Hv     angle       Psi     Delta    ErrPsi  ErrDelta\n",
       "0  192.948230  0.959931  0.600457  2.434026  0.006148  0.010011\n",
       "1  194.539038  0.959931  0.606778  2.479310  0.004457  0.007487\n",
       "2  196.129883  0.959931  0.583185  2.535811  0.003587  0.006331\n",
       "3  197.720776  0.959931  0.570882  2.617305  0.002722  0.004985\n",
       "4  199.311694  0.959931  0.585353  2.706325  0.002172  0.004111"
      ]
     },
     "execution_count": 16,
     "metadata": {},
     "output_type": "execute_result"
    }
   ],
   "source": [
    "sig3.data.head()"
   ]
  },
  {
   "cell_type": "markdown",
   "metadata": {},
   "source": [
    "### Affichage"
   ]
  },
  {
   "cell_type": "code",
   "execution_count": 17,
   "metadata": {},
   "outputs": [
    {
     "data": {
      "text/plain": [
       "<matplotlib.axes._subplots.AxesSubplot at 0x115bde780>"
      ]
     },
     "execution_count": 17,
     "metadata": {},
     "output_type": "execute_result"
    },
    {
     "data": {
      "image/png": "[encoded data removed]",
      "text/plain": [
       "<Figure size 432x288 with 1 Axes>"
      ]
     },
     "metadata": {
      "needs_background": "light"
     },
     "output_type": "display_data"
    }
   ],
   "source": [
    "sig2.data.plot(x='Hv', y=['Psi', 'Delta'])"
   ]
  },
  {
   "cell_type": "code",
   "execution_count": null,
   "metadata": {},
   "outputs": [],
   "source": []
  },
  {
   "cell_type": "code",
   "execution_count": null,
   "metadata": {},
   "outputs": [],
   "source": []
  }
 ],
 "metadata": {
  "anaconda-cloud": {},
  "css": [
   ""
  ],
  "hide_input": true,
  "kernelspec": {
   "display_name": "Python 3",
   "language": "python",
   "name": "python3"
  },
  "language_info": {
   "codemirror_mode": {
    "name": "ipython",
    "version": 3
   },
   "file_extension": ".py",
   "mimetype": "text/x-python",
   "name": "python",
   "nbconvert_exporter": "python",
   "pygments_lexer": "ipython3",
   "version": "3.6.8"
  }
 },
 "nbformat": 4,
 "nbformat_minor": 1
}
